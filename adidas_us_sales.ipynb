{
 "cells": [
  {
   "cell_type": "markdown",
   "metadata": {},
   "source": []
  },
  {
   "cell_type": "markdown",
   "metadata": {},
   "source": [
    "# Adidas US Sales Datasets\n",
    "\n",
    "A dataset pertaining to Adidas sales comprises a compilation of information concerning the sales activities of Adidas products. Such datasets typically encompass details like the quantity of products sold, the total revenue generated from sales, the geographical distribution of sales, the specific product types sold, and other pertinent particulars.\n",
    "\n",
    "The utilization of Adidas sales data can serve diverse objectives, including the analysis of sales patterns, the identification of successful products or marketing endeavors, and the formulation of strategies for future sales endeavors. Additionally, it can facilitate comparisons between Adidas sales and those of competitors, as well as evaluations of the efficacy of various marketing or sales channels.\n",
    "\n",
    "Numerous potential sources exist from which an Adidas sales dataset could be obtained, including Adidas itself, market research companies, governmental bodies, or other entities involved in the tracking of sales data. The specific data elements encompassed within an Adidas sales dataset might vary based on the originating source and the intended utilization of the data."
   ]
  },
  {
   "cell_type": "markdown",
   "metadata": {},
   "source": [
    "<a id=\"cont\"></a>\n",
    "\n",
    "## Table of Contents\n",
    "\n",
    "- [1. Import Packages](#one)\n",
    "- [2. Load Data](#two)"
   ]
  },
  {
   "cell_type": "markdown",
   "metadata": {},
   "source": [
    "<a id=\"one\"></a>\n",
    "# 1. Import Packages\n",
    "[Back to Table of Contents](#cont)\n",
    "\n",
    "---"
   ]
  },
  {
   "cell_type": "code",
   "execution_count": 82,
   "metadata": {},
   "outputs": [],
   "source": [
    "import numpy as np\n",
    "import pandas as pd\n",
    "from sklearn.linear_model import LogisticRegression\n",
    "from sklearn.metrics import confusion_matrix\n",
    "from sklearn.metrics import classification_report"
   ]
  },
  {
   "cell_type": "markdown",
   "metadata": {},
   "source": [
    "<a id=\"two\"></a>\n",
    "# 2. Load Data\n",
    "[Back to Table of Contents](#cont)\n",
    "\n",
    "---"
   ]
  },
  {
   "cell_type": "markdown",
   "metadata": {},
   "source": [
    "Convert Excel sheet into a CSV file"
   ]
  },
  {
   "cell_type": "code",
   "execution_count": 83,
   "metadata": {},
   "outputs": [],
   "source": [
    "excel_file = 'Adidas US Sales Datasets.xlsx' \n",
    "\n",
    "column_names = [\"Retailer\", \"Retailer ID\",\"Invoice Date\",\"Region\", \"State\",\"City\", \"Product\", \"Price per Unit\",\t\"Units Sold\", \"Total Sales\", \"Operating Profit\",\"Operating Margin\",\"Sales Method\"]\n",
    "df = pd.read_excel(excel_file, header=None, names=column_names)\n",
    "\n",
    "df = df.dropna(how='all')\n",
    "\n",
    "csv_file = 'adidas_us_sales.csv'  \n",
    "df.to_csv(csv_file, index=False)  \n",
    "\n"
   ]
  },
  {
   "cell_type": "code",
   "execution_count": 84,
   "metadata": {},
   "outputs": [],
   "source": [
    "adidas_sales_df = pd.read_csv(\"adidas_us_sales.csv\")"
   ]
  },
  {
   "cell_type": "code",
   "execution_count": 85,
   "metadata": {},
   "outputs": [
    {
     "data": {
      "text/html": [
       "<div>\n",
       "<style scoped>\n",
       "    .dataframe tbody tr th:only-of-type {\n",
       "        vertical-align: middle;\n",
       "    }\n",
       "\n",
       "    .dataframe tbody tr th {\n",
       "        vertical-align: top;\n",
       "    }\n",
       "\n",
       "    .dataframe thead th {\n",
       "        text-align: right;\n",
       "    }\n",
       "</style>\n",
       "<table border=\"1\" class=\"dataframe\">\n",
       "  <thead>\n",
       "    <tr style=\"text-align: right;\">\n",
       "      <th></th>\n",
       "      <th>Retailer</th>\n",
       "      <th>Retailer ID</th>\n",
       "      <th>Invoice Date</th>\n",
       "      <th>Region</th>\n",
       "      <th>State</th>\n",
       "      <th>City</th>\n",
       "      <th>Product</th>\n",
       "      <th>Price per Unit</th>\n",
       "      <th>Units Sold</th>\n",
       "      <th>Total Sales</th>\n",
       "      <th>Operating Profit</th>\n",
       "      <th>Operating Margin</th>\n",
       "      <th>Sales Method</th>\n",
       "    </tr>\n",
       "  </thead>\n",
       "  <tbody>\n",
       "    <tr>\n",
       "      <th>0</th>\n",
       "      <td>NaN</td>\n",
       "      <td>Adidas Sales Database</td>\n",
       "      <td>NaN</td>\n",
       "      <td>NaN</td>\n",
       "      <td>NaN</td>\n",
       "      <td>NaN</td>\n",
       "      <td>NaN</td>\n",
       "      <td>NaN</td>\n",
       "      <td>NaN</td>\n",
       "      <td>NaN</td>\n",
       "      <td>NaN</td>\n",
       "      <td>NaN</td>\n",
       "      <td>NaN</td>\n",
       "    </tr>\n",
       "    <tr>\n",
       "      <th>1</th>\n",
       "      <td>Retailer</td>\n",
       "      <td>Retailer ID</td>\n",
       "      <td>Invoice Date</td>\n",
       "      <td>Region</td>\n",
       "      <td>State</td>\n",
       "      <td>City</td>\n",
       "      <td>Product</td>\n",
       "      <td>Price per Unit</td>\n",
       "      <td>Units Sold</td>\n",
       "      <td>Total Sales</td>\n",
       "      <td>Operating Profit</td>\n",
       "      <td>Operating Margin</td>\n",
       "      <td>Sales Method</td>\n",
       "    </tr>\n",
       "    <tr>\n",
       "      <th>2</th>\n",
       "      <td>Foot Locker</td>\n",
       "      <td>1185732</td>\n",
       "      <td>2020-01-01 00:00:00</td>\n",
       "      <td>Northeast</td>\n",
       "      <td>New York</td>\n",
       "      <td>New York</td>\n",
       "      <td>Men's Street Footwear</td>\n",
       "      <td>50</td>\n",
       "      <td>1200</td>\n",
       "      <td>600000</td>\n",
       "      <td>300000</td>\n",
       "      <td>0.5</td>\n",
       "      <td>In-store</td>\n",
       "    </tr>\n",
       "    <tr>\n",
       "      <th>3</th>\n",
       "      <td>Foot Locker</td>\n",
       "      <td>1185732</td>\n",
       "      <td>2020-01-02 00:00:00</td>\n",
       "      <td>Northeast</td>\n",
       "      <td>New York</td>\n",
       "      <td>New York</td>\n",
       "      <td>Men's Athletic Footwear</td>\n",
       "      <td>50</td>\n",
       "      <td>1000</td>\n",
       "      <td>500000</td>\n",
       "      <td>150000</td>\n",
       "      <td>0.3</td>\n",
       "      <td>In-store</td>\n",
       "    </tr>\n",
       "    <tr>\n",
       "      <th>4</th>\n",
       "      <td>Foot Locker</td>\n",
       "      <td>1185732</td>\n",
       "      <td>2020-01-03 00:00:00</td>\n",
       "      <td>Northeast</td>\n",
       "      <td>New York</td>\n",
       "      <td>New York</td>\n",
       "      <td>Women's Street Footwear</td>\n",
       "      <td>40</td>\n",
       "      <td>1000</td>\n",
       "      <td>400000</td>\n",
       "      <td>140000</td>\n",
       "      <td>0.35</td>\n",
       "      <td>In-store</td>\n",
       "    </tr>\n",
       "  </tbody>\n",
       "</table>\n",
       "</div>"
      ],
      "text/plain": [
       "      Retailer            Retailer ID         Invoice Date     Region  \\\n",
       "0          NaN  Adidas Sales Database                  NaN        NaN   \n",
       "1     Retailer            Retailer ID         Invoice Date     Region   \n",
       "2  Foot Locker                1185732  2020-01-01 00:00:00  Northeast   \n",
       "3  Foot Locker                1185732  2020-01-02 00:00:00  Northeast   \n",
       "4  Foot Locker                1185732  2020-01-03 00:00:00  Northeast   \n",
       "\n",
       "      State      City                  Product  Price per Unit  Units Sold  \\\n",
       "0       NaN       NaN                      NaN             NaN         NaN   \n",
       "1     State      City                  Product  Price per Unit  Units Sold   \n",
       "2  New York  New York    Men's Street Footwear              50        1200   \n",
       "3  New York  New York  Men's Athletic Footwear              50        1000   \n",
       "4  New York  New York  Women's Street Footwear              40        1000   \n",
       "\n",
       "   Total Sales  Operating Profit  Operating Margin  Sales Method  \n",
       "0          NaN               NaN               NaN           NaN  \n",
       "1  Total Sales  Operating Profit  Operating Margin  Sales Method  \n",
       "2       600000            300000               0.5      In-store  \n",
       "3       500000            150000               0.3      In-store  \n",
       "4       400000            140000              0.35      In-store  "
      ]
     },
     "execution_count": 85,
     "metadata": {},
     "output_type": "execute_result"
    }
   ],
   "source": [
    "adidas_sales_df.head()"
   ]
  },
  {
   "cell_type": "code",
   "execution_count": 86,
   "metadata": {},
   "outputs": [
    {
     "data": {
      "text/html": [
       "<div>\n",
       "<style scoped>\n",
       "    .dataframe tbody tr th:only-of-type {\n",
       "        vertical-align: middle;\n",
       "    }\n",
       "\n",
       "    .dataframe tbody tr th {\n",
       "        vertical-align: top;\n",
       "    }\n",
       "\n",
       "    .dataframe thead th {\n",
       "        text-align: right;\n",
       "    }\n",
       "</style>\n",
       "<table border=\"1\" class=\"dataframe\">\n",
       "  <thead>\n",
       "    <tr style=\"text-align: right;\">\n",
       "      <th></th>\n",
       "      <th>Retailer</th>\n",
       "      <th>Retailer ID</th>\n",
       "      <th>Invoice Date</th>\n",
       "      <th>Region</th>\n",
       "      <th>State</th>\n",
       "      <th>City</th>\n",
       "      <th>Product</th>\n",
       "      <th>Price per Unit</th>\n",
       "      <th>Units Sold</th>\n",
       "      <th>Total Sales</th>\n",
       "      <th>Operating Profit</th>\n",
       "      <th>Operating Margin</th>\n",
       "      <th>Sales Method</th>\n",
       "    </tr>\n",
       "  </thead>\n",
       "  <tbody>\n",
       "    <tr>\n",
       "      <th>9645</th>\n",
       "      <td>Foot Locker</td>\n",
       "      <td>1185732</td>\n",
       "      <td>2021-01-24 00:00:00</td>\n",
       "      <td>Northeast</td>\n",
       "      <td>New Hampshire</td>\n",
       "      <td>Manchester</td>\n",
       "      <td>Men's Apparel</td>\n",
       "      <td>50</td>\n",
       "      <td>64</td>\n",
       "      <td>3200</td>\n",
       "      <td>896.0000000000001</td>\n",
       "      <td>0.28</td>\n",
       "      <td>Outlet</td>\n",
       "    </tr>\n",
       "    <tr>\n",
       "      <th>9646</th>\n",
       "      <td>Foot Locker</td>\n",
       "      <td>1185732</td>\n",
       "      <td>2021-01-24 00:00:00</td>\n",
       "      <td>Northeast</td>\n",
       "      <td>New Hampshire</td>\n",
       "      <td>Manchester</td>\n",
       "      <td>Women's Apparel</td>\n",
       "      <td>41</td>\n",
       "      <td>105</td>\n",
       "      <td>4305</td>\n",
       "      <td>1377.6000000000001</td>\n",
       "      <td>0.32</td>\n",
       "      <td>Outlet</td>\n",
       "    </tr>\n",
       "    <tr>\n",
       "      <th>9647</th>\n",
       "      <td>Foot Locker</td>\n",
       "      <td>1185732</td>\n",
       "      <td>2021-02-22 00:00:00</td>\n",
       "      <td>Northeast</td>\n",
       "      <td>New Hampshire</td>\n",
       "      <td>Manchester</td>\n",
       "      <td>Men's Street Footwear</td>\n",
       "      <td>41</td>\n",
       "      <td>184</td>\n",
       "      <td>7544</td>\n",
       "      <td>2791.28</td>\n",
       "      <td>0.37000000000000005</td>\n",
       "      <td>Outlet</td>\n",
       "    </tr>\n",
       "    <tr>\n",
       "      <th>9648</th>\n",
       "      <td>Foot Locker</td>\n",
       "      <td>1185732</td>\n",
       "      <td>2021-02-22 00:00:00</td>\n",
       "      <td>Northeast</td>\n",
       "      <td>New Hampshire</td>\n",
       "      <td>Manchester</td>\n",
       "      <td>Men's Athletic Footwear</td>\n",
       "      <td>42</td>\n",
       "      <td>70</td>\n",
       "      <td>2940</td>\n",
       "      <td>1234.8000000000002</td>\n",
       "      <td>0.42000000000000004</td>\n",
       "      <td>Outlet</td>\n",
       "    </tr>\n",
       "    <tr>\n",
       "      <th>9649</th>\n",
       "      <td>Foot Locker</td>\n",
       "      <td>1185732</td>\n",
       "      <td>2021-02-22 00:00:00</td>\n",
       "      <td>Northeast</td>\n",
       "      <td>New Hampshire</td>\n",
       "      <td>Manchester</td>\n",
       "      <td>Women's Street Footwear</td>\n",
       "      <td>29</td>\n",
       "      <td>83</td>\n",
       "      <td>2407</td>\n",
       "      <td>649.89</td>\n",
       "      <td>0.27</td>\n",
       "      <td>Outlet</td>\n",
       "    </tr>\n",
       "  </tbody>\n",
       "</table>\n",
       "</div>"
      ],
      "text/plain": [
       "         Retailer Retailer ID         Invoice Date     Region          State  \\\n",
       "9645  Foot Locker     1185732  2021-01-24 00:00:00  Northeast  New Hampshire   \n",
       "9646  Foot Locker     1185732  2021-01-24 00:00:00  Northeast  New Hampshire   \n",
       "9647  Foot Locker     1185732  2021-02-22 00:00:00  Northeast  New Hampshire   \n",
       "9648  Foot Locker     1185732  2021-02-22 00:00:00  Northeast  New Hampshire   \n",
       "9649  Foot Locker     1185732  2021-02-22 00:00:00  Northeast  New Hampshire   \n",
       "\n",
       "            City                  Product Price per Unit Units Sold  \\\n",
       "9645  Manchester            Men's Apparel             50         64   \n",
       "9646  Manchester          Women's Apparel             41        105   \n",
       "9647  Manchester    Men's Street Footwear             41        184   \n",
       "9648  Manchester  Men's Athletic Footwear             42         70   \n",
       "9649  Manchester  Women's Street Footwear             29         83   \n",
       "\n",
       "     Total Sales    Operating Profit     Operating Margin Sales Method  \n",
       "9645        3200   896.0000000000001                 0.28       Outlet  \n",
       "9646        4305  1377.6000000000001                 0.32       Outlet  \n",
       "9647        7544             2791.28  0.37000000000000005       Outlet  \n",
       "9648        2940  1234.8000000000002  0.42000000000000004       Outlet  \n",
       "9649        2407              649.89                 0.27       Outlet  "
      ]
     },
     "execution_count": 86,
     "metadata": {},
     "output_type": "execute_result"
    }
   ],
   "source": [
    "adidas_sales_df.tail()"
   ]
  },
  {
   "cell_type": "code",
   "execution_count": 87,
   "metadata": {},
   "outputs": [
    {
     "data": {
      "text/plain": [
       "(9650, 13)"
      ]
     },
     "execution_count": 87,
     "metadata": {},
     "output_type": "execute_result"
    }
   ],
   "source": [
    "adidas_sales_df.shape"
   ]
  },
  {
   "cell_type": "code",
   "execution_count": 88,
   "metadata": {},
   "outputs": [
    {
     "name": "stdout",
     "output_type": "stream",
     "text": [
      "<class 'pandas.core.frame.DataFrame'>\n",
      "RangeIndex: 9650 entries, 0 to 9649\n",
      "Data columns (total 13 columns):\n",
      " #   Column            Non-Null Count  Dtype \n",
      "---  ------            --------------  ----- \n",
      " 0   Retailer          9649 non-null   object\n",
      " 1   Retailer ID       9650 non-null   object\n",
      " 2   Invoice Date      9649 non-null   object\n",
      " 3   Region            9649 non-null   object\n",
      " 4   State             9649 non-null   object\n",
      " 5   City              9649 non-null   object\n",
      " 6   Product           9649 non-null   object\n",
      " 7   Price per Unit    9649 non-null   object\n",
      " 8   Units Sold        9649 non-null   object\n",
      " 9   Total Sales       9649 non-null   object\n",
      " 10  Operating Profit  9649 non-null   object\n",
      " 11  Operating Margin  9649 non-null   object\n",
      " 12  Sales Method      9649 non-null   object\n",
      "dtypes: object(13)\n",
      "memory usage: 980.2+ KB\n"
     ]
    }
   ],
   "source": [
    "adidas_sales_df.info()"
   ]
  },
  {
   "cell_type": "code",
   "execution_count": 89,
   "metadata": {},
   "outputs": [
    {
     "data": {
      "text/plain": [
       "Retailer            1\n",
       "Retailer ID         0\n",
       "Invoice Date        1\n",
       "Region              1\n",
       "State               1\n",
       "City                1\n",
       "Product             1\n",
       "Price per Unit      1\n",
       "Units Sold          1\n",
       "Total Sales         1\n",
       "Operating Profit    1\n",
       "Operating Margin    1\n",
       "Sales Method        1\n",
       "dtype: int64"
      ]
     },
     "execution_count": 89,
     "metadata": {},
     "output_type": "execute_result"
    }
   ],
   "source": [
    "adidas_sales_df.isnull().sum()"
   ]
  },
  {
   "cell_type": "code",
   "execution_count": 90,
   "metadata": {},
   "outputs": [],
   "source": [
    "null_values = adidas_sales_df[adidas_sales_df['Retailer'].isnull()]"
   ]
  },
  {
   "cell_type": "code",
   "execution_count": 91,
   "metadata": {},
   "outputs": [
    {
     "data": {
      "text/html": [
       "<div>\n",
       "<style scoped>\n",
       "    .dataframe tbody tr th:only-of-type {\n",
       "        vertical-align: middle;\n",
       "    }\n",
       "\n",
       "    .dataframe tbody tr th {\n",
       "        vertical-align: top;\n",
       "    }\n",
       "\n",
       "    .dataframe thead th {\n",
       "        text-align: right;\n",
       "    }\n",
       "</style>\n",
       "<table border=\"1\" class=\"dataframe\">\n",
       "  <thead>\n",
       "    <tr style=\"text-align: right;\">\n",
       "      <th></th>\n",
       "      <th>Retailer</th>\n",
       "      <th>Retailer ID</th>\n",
       "      <th>Invoice Date</th>\n",
       "      <th>Region</th>\n",
       "      <th>State</th>\n",
       "      <th>City</th>\n",
       "      <th>Product</th>\n",
       "      <th>Price per Unit</th>\n",
       "      <th>Units Sold</th>\n",
       "      <th>Total Sales</th>\n",
       "      <th>Operating Profit</th>\n",
       "      <th>Operating Margin</th>\n",
       "      <th>Sales Method</th>\n",
       "    </tr>\n",
       "  </thead>\n",
       "  <tbody>\n",
       "    <tr>\n",
       "      <th>0</th>\n",
       "      <td>NaN</td>\n",
       "      <td>Adidas Sales Database</td>\n",
       "      <td>NaN</td>\n",
       "      <td>NaN</td>\n",
       "      <td>NaN</td>\n",
       "      <td>NaN</td>\n",
       "      <td>NaN</td>\n",
       "      <td>NaN</td>\n",
       "      <td>NaN</td>\n",
       "      <td>NaN</td>\n",
       "      <td>NaN</td>\n",
       "      <td>NaN</td>\n",
       "      <td>NaN</td>\n",
       "    </tr>\n",
       "  </tbody>\n",
       "</table>\n",
       "</div>"
      ],
      "text/plain": [
       "  Retailer            Retailer ID Invoice Date Region State City Product  \\\n",
       "0      NaN  Adidas Sales Database          NaN    NaN   NaN  NaN     NaN   \n",
       "\n",
       "  Price per Unit Units Sold Total Sales Operating Profit Operating Margin  \\\n",
       "0            NaN        NaN         NaN              NaN              NaN   \n",
       "\n",
       "  Sales Method  \n",
       "0          NaN  "
      ]
     },
     "execution_count": 91,
     "metadata": {},
     "output_type": "execute_result"
    }
   ],
   "source": [
    "null_values"
   ]
  },
  {
   "cell_type": "code",
   "execution_count": 92,
   "metadata": {},
   "outputs": [],
   "source": [
    "df_cleaned = adidas_sales_df.dropna()"
   ]
  },
  {
   "cell_type": "code",
   "execution_count": 93,
   "metadata": {},
   "outputs": [
    {
     "data": {
      "text/plain": [
       "Retailer            0\n",
       "Retailer ID         0\n",
       "Invoice Date        0\n",
       "Region              0\n",
       "State               0\n",
       "City                0\n",
       "Product             0\n",
       "Price per Unit      0\n",
       "Units Sold          0\n",
       "Total Sales         0\n",
       "Operating Profit    0\n",
       "Operating Margin    0\n",
       "Sales Method        0\n",
       "dtype: int64"
      ]
     },
     "execution_count": 93,
     "metadata": {},
     "output_type": "execute_result"
    }
   ],
   "source": [
    "df_cleaned.isnull().sum()"
   ]
  }
 ],
 "metadata": {
  "kernelspec": {
   "display_name": "base",
   "language": "python",
   "name": "python3"
  },
  "language_info": {
   "codemirror_mode": {
    "name": "ipython",
    "version": 3
   },
   "file_extension": ".py",
   "mimetype": "text/x-python",
   "name": "python",
   "nbconvert_exporter": "python",
   "pygments_lexer": "ipython3",
   "version": "3.11.5"
  }
 },
 "nbformat": 4,
 "nbformat_minor": 2
}
